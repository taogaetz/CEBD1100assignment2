{
 "cells": [
  {
   "cell_type": "markdown",
   "metadata": {},
   "source": [
    "# Question #1: [1]\n",
    "Use the range method to print all the odd numbers from 0 to 10."
   ]
  },
  {
   "cell_type": "code",
   "execution_count": 7,
   "metadata": {},
   "outputs": [
    {
     "name": "stdout",
     "output_type": "stream",
     "text": [
      "1\n",
      "3\n",
      "5\n",
      "7\n",
      "9\n"
     ]
    }
   ],
   "source": [
    "for i in range(0,10): \n",
    "    if i % 2 != 0: print(i)"
   ]
  },
  {
   "cell_type": "markdown",
   "metadata": {},
   "source": [
    "# Question #2: [3]\n",
    "Go through the string below and if the length of a word is even print \"even!\" otherwise print the word\n",
    "itself!\n",
    "\n",
    "```my_string = 'Print even for every word in this sentence that has an even number of letters'```"
   ]
  },
  {
   "cell_type": "code",
   "execution_count": 38,
   "metadata": {},
   "outputs": [
    {
     "name": "stdout",
     "output_type": "stream",
     "text": [
      "Print even for every even even even even even has even even even even letters\n"
     ]
    }
   ],
   "source": [
    "my_string = 'Print even for every word in this sentence that has an even number of letters'\n",
    "\n",
    "my_arr = my_string.split(' ')\n",
    "\n",
    "to_join_and_print = []\n",
    "\n",
    "for i in my_arr: \n",
    "    if len(i) % 2 != 0: to_join_and_print.append(i)\n",
    "    else: to_join_and_print.append('even')\n",
    "        \n",
    "print(' '.join(to_join_and_print))"
   ]
  },
  {
   "cell_type": "markdown",
   "metadata": {},
   "source": [
    "# Question #3: [4]\n",
    "Write a program that prints the integers from 1 to 100. For the multiples of 3 print \"Fizz\" instead of the\n",
    "number, and for the multiples of 7 print \"Buzz\". For numbers which are multiples of both 3 and 7 print\n",
    "\"FizzBuzz\"."
   ]
  },
  {
   "cell_type": "code",
   "execution_count": 55,
   "metadata": {},
   "outputs": [
    {
     "name": "stdout",
     "output_type": "stream",
     "text": [
      "1\n",
      "2\n",
      "Fizz\n",
      "4\n",
      "5\n",
      "Fizz\n",
      "Buzz\n",
      "8\n",
      "Fizz\n",
      "10\n",
      "11\n",
      "Fizz\n",
      "13\n",
      "Buzz\n",
      "Fizz\n",
      "16\n",
      "17\n",
      "Fizz\n",
      "19\n",
      "20\n",
      "FizzBuzz!\n",
      "22\n",
      "23\n",
      "Fizz\n",
      "25\n",
      "26\n",
      "Fizz\n",
      "Buzz\n",
      "29\n",
      "Fizz\n",
      "31\n",
      "32\n",
      "Fizz\n",
      "34\n",
      "Buzz\n",
      "Fizz\n",
      "37\n",
      "38\n",
      "Fizz\n",
      "40\n",
      "41\n",
      "FizzBuzz!\n",
      "43\n",
      "44\n",
      "Fizz\n",
      "46\n",
      "47\n",
      "Fizz\n",
      "Buzz\n",
      "50\n",
      "Fizz\n",
      "52\n",
      "53\n",
      "Fizz\n",
      "55\n",
      "Buzz\n",
      "Fizz\n",
      "58\n",
      "59\n",
      "Fizz\n",
      "61\n",
      "62\n",
      "FizzBuzz!\n",
      "64\n",
      "65\n",
      "Fizz\n",
      "67\n",
      "68\n",
      "Fizz\n",
      "Buzz\n",
      "71\n",
      "Fizz\n",
      "73\n",
      "74\n",
      "Fizz\n",
      "76\n",
      "Buzz\n",
      "Fizz\n",
      "79\n",
      "80\n",
      "Fizz\n",
      "82\n",
      "83\n",
      "FizzBuzz!\n",
      "85\n",
      "86\n",
      "Fizz\n",
      "88\n",
      "89\n",
      "Fizz\n",
      "Buzz\n",
      "92\n",
      "Fizz\n",
      "94\n",
      "95\n",
      "Fizz\n",
      "97\n",
      "Buzz\n",
      "Fizz\n"
     ]
    }
   ],
   "source": [
    "def FizzBuzz(int):\n",
    "    for i in range(1, int):\n",
    "        if i % 3 == 0 and i % 7 == 0: print(\"FizzBuzz!\")\n",
    "        elif i % 3 == 0: print(\"Fizz\")\n",
    "        elif i % 7 == 0: print(\"Buzz\")\n",
    "        else: print(i)\n",
    "            \n",
    "FizzBuzz(100)"
   ]
  },
  {
   "cell_type": "markdown",
   "metadata": {},
   "source": [
    "# Question #4: [3]\n",
    "Define a function that takes in 2 arguments and returns a True if the first value is greater\n",
    "than the second, False if it is less than or equal to the second."
   ]
  },
  {
   "cell_type": "code",
   "execution_count": 61,
   "metadata": {},
   "outputs": [
    {
     "data": {
      "text/plain": [
       "False"
      ]
     },
     "execution_count": 61,
     "metadata": {},
     "output_type": "execute_result"
    }
   ],
   "source": [
    "def is_greater(val1, val2):\n",
    "    if val1 > val2: return True\n",
    "    else: return False\n",
    "    \n",
    "is_greater(55, 65)"
   ]
  },
  {
   "cell_type": "markdown",
   "metadata": {},
   "source": [
    "# Question #5: [4]\n",
    "Define a function that takes in an arbitrary number of arguments and returns a list\n",
    "containing only those arguments that are odd."
   ]
  },
  {
   "cell_type": "code",
   "execution_count": 103,
   "metadata": {},
   "outputs": [
    {
     "data": {
      "text/plain": [
       "[55, 5, 69, 13, 7]"
      ]
     },
     "execution_count": 103,
     "metadata": {},
     "output_type": "execute_result"
    }
   ],
   "source": [
    "def ret_odd(*args):\n",
    "    my_list = []\n",
    "    for i in args:\n",
    "        if type(i) != int: return f\"bad arg of type {type(i)} found\"\n",
    "\n",
    "        #     using seperate for loops to check every arg type before moving anything in memory.\n",
    "    \n",
    "    for i in args:\n",
    "        if i % 2 != 0: my_list.append(i)\n",
    "    return my_list\n",
    "    \n",
    "ret_odd(55, 5, 12, 69, 13, 10, 8, 4, 2, 7)"
   ]
  },
  {
   "cell_type": "code",
   "execution_count": null,
   "metadata": {},
   "outputs": [],
   "source": []
  }
 ],
 "metadata": {
  "kernelspec": {
   "display_name": "Python 3",
   "language": "python",
   "name": "python3"
  },
  "language_info": {
   "codemirror_mode": {
    "name": "ipython",
    "version": 3
   },
   "file_extension": ".py",
   "mimetype": "text/x-python",
   "name": "python",
   "nbconvert_exporter": "python",
   "pygments_lexer": "ipython3",
   "version": "3.9.0"
  }
 },
 "nbformat": 4,
 "nbformat_minor": 4
}
